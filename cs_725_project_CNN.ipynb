version https://git-lfs.github.com/spec/v1
oid sha256:cd487281b23fc66aa96bd5ce2c1b55831071b0e6a064c9f75d8ae4ddd34fd8a1
size 161021
